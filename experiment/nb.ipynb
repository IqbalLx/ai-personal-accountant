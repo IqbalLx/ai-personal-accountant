{
 "cells": [
  {
   "cell_type": "code",
   "execution_count": 8,
   "metadata": {},
   "outputs": [],
   "source": [
    "import sys\n",
    "\n",
    "sys.path.append(\"..\")"
   ]
  },
  {
   "cell_type": "code",
   "execution_count": 9,
   "metadata": {},
   "outputs": [],
   "source": [
    "from src.personal_accountant.types import type"
   ]
  },
  {
   "cell_type": "code",
   "execution_count": 18,
   "metadata": {},
   "outputs": [
    {
     "data": {
      "text/plain": [
       "<module 'src.personal_accountant.types.type' from '/home/iqbal/Documents/projects/ai-personal-accountant/experiment/../src/personal_accountant/types/type.py'>"
      ]
     },
     "execution_count": 18,
     "metadata": {},
     "output_type": "execute_result"
    }
   ],
   "source": [
    "import importlib\n",
    "importlib.reload(type)"
   ]
  },
  {
   "cell_type": "code",
   "execution_count": 19,
   "metadata": {},
   "outputs": [
    {
     "data": {
      "text/plain": [
       "{'properties': {'document_type': {'description': \"The type of document from which the spending data was extracted (e.g., 'receipt', 'invoice', 'bank statement')\",\n",
       "   'title': 'Document Type',\n",
       "   'type': 'string'},\n",
       "  'transaction_date': {'description': 'Format: YYYY-MM-DD',\n",
       "   'title': 'Transaction Date',\n",
       "   'type': 'string'},\n",
       "  'transaction_time': {'anyOf': [{'type': 'string'}, {'type': 'null'}],\n",
       "   'default': None,\n",
       "   'description': 'Format: HH:MM:SS',\n",
       "   'title': 'Transaction Time'},\n",
       "  'currency': {'description': 'e.g., USD, EUR, IDR',\n",
       "   'title': 'Currency',\n",
       "   'type': 'string'},\n",
       "  'category': {'anyOf': [{'type': 'string'}, {'type': 'null'}],\n",
       "   'default': None,\n",
       "   'description': \"A general, user-defined category for the spending (e.g., 'Personal', 'Business', 'Household')\",\n",
       "   'title': 'Category'},\n",
       "  'transaction_category': {'anyOf': [{'type': 'string'}, {'type': 'null'}],\n",
       "   'default': None,\n",
       "   'description': 'Overall category for the transaction (e.g., Dining, Groceries, Travel)',\n",
       "   'title': 'Transaction Category'},\n",
       "  'merchant_name': {'description': 'The name of the merchant or vendor where the transaction occurred.',\n",
       "   'title': 'Merchant Name',\n",
       "   'type': 'string'},\n",
       "  'merchant_address': {'anyOf': [{'type': 'string'}, {'type': 'null'}],\n",
       "   'default': None,\n",
       "   'description': 'The physical address of the merchant.',\n",
       "   'title': 'Merchant Address'},\n",
       "  'merchant_phone': {'anyOf': [{'type': 'string'}, {'type': 'null'}],\n",
       "   'default': None,\n",
       "   'description': 'The phone number of the merchant.',\n",
       "   'title': 'Merchant Phone'},\n",
       "  'merchant_website': {'anyOf': [{'type': 'string'}, {'type': 'null'}],\n",
       "   'default': None,\n",
       "   'description': 'The website URL of the merchant.',\n",
       "   'title': 'Merchant Website'},\n",
       "  'merchant_tax_id': {'anyOf': [{'type': 'string'}, {'type': 'null'}],\n",
       "   'default': None,\n",
       "   'description': 'The tax identification number of the merchant, if available.',\n",
       "   'title': 'Merchant Tax Id'},\n",
       "  'summary_subtotal': {'description': 'The total cost of goods or services before any discounts, taxes, or shipping.',\n",
       "   'title': 'Summary Subtotal',\n",
       "   'type': 'number'},\n",
       "  'summary_discount_amount': {'anyOf': [{'type': 'number'}, {'type': 'null'}],\n",
       "   'default': None,\n",
       "   'description': 'The total amount of any discounts applied to the transaction.',\n",
       "   'title': 'Summary Discount Amount'},\n",
       "  'summary_tax_amount': {'anyOf': [{'type': 'number'}, {'type': 'null'}],\n",
       "   'default': None,\n",
       "   'description': 'The total amount of tax applied to the transaction.',\n",
       "   'title': 'Summary Tax Amount'},\n",
       "  'summary_shipping_amount': {'anyOf': [{'type': 'number'}, {'type': 'null'}],\n",
       "   'default': None,\n",
       "   'description': 'The cost of shipping or delivery for the transaction.',\n",
       "   'title': 'Summary Shipping Amount'},\n",
       "  'summary_total_amount': {'description': 'The final total amount of the transaction, including subtotal, taxes, shipping, and after discounts.',\n",
       "   'title': 'Summary Total Amount',\n",
       "   'type': 'number'},\n",
       "  'summary_amount_paid': {'anyOf': [{'type': 'number'}, {'type': 'null'}],\n",
       "   'default': None,\n",
       "   'description': 'The actual amount paid by the customer.',\n",
       "   'title': 'Summary Amount Paid'},\n",
       "  'summary_change_due': {'anyOf': [{'type': 'number'}, {'type': 'null'}],\n",
       "   'default': None,\n",
       "   'description': 'The amount of change returned to the customer, if applicable.',\n",
       "   'title': 'Summary Change Due'},\n",
       "  'payment_method': {'anyOf': [{'type': 'string'}, {'type': 'null'}],\n",
       "   'default': None,\n",
       "   'description': \"The method used for payment (e.g., 'Credit Card', 'Cash', 'Debit Card', 'Bank Transfer').\",\n",
       "   'title': 'Payment Method'},\n",
       "  'payment_card_type': {'anyOf': [{'type': 'string'}, {'type': 'null'}],\n",
       "   'default': None,\n",
       "   'description': \"The type of payment card used (e.g., 'Visa', 'Mastercard', 'Amex').\",\n",
       "   'title': 'Payment Card Type'},\n",
       "  'payment_last_four_digits': {'anyOf': [{'type': 'string'}, {'type': 'null'}],\n",
       "   'default': None,\n",
       "   'description': 'The last four digits of the payment card used.',\n",
       "   'title': 'Payment Last Four Digits'},\n",
       "  'payment_transaction_id': {'anyOf': [{'type': 'string'}, {'type': 'null'}],\n",
       "   'default': None,\n",
       "   'description': 'A unique identifier for the payment transaction.',\n",
       "   'title': 'Payment Transaction Id'},\n",
       "  'notes': {'anyOf': [{'type': 'string'}, {'type': 'null'}],\n",
       "   'default': None,\n",
       "   'description': 'Any additional notes or comments related to the spending entry.',\n",
       "   'title': 'Notes'}},\n",
       " 'required': ['document_type',\n",
       "  'transaction_date',\n",
       "  'currency',\n",
       "  'merchant_name',\n",
       "  'summary_subtotal',\n",
       "  'summary_total_amount'],\n",
       " 'title': 'Spending',\n",
       " 'type': 'object'}"
      ]
     },
     "execution_count": 19,
     "metadata": {},
     "output_type": "execute_result"
    }
   ],
   "source": [
    "type.Spending.model_json_schema()"
   ]
  },
  {
   "cell_type": "code",
   "execution_count": null,
   "metadata": {},
   "outputs": [],
   "source": []
  }
 ],
 "metadata": {
  "kernelspec": {
   "display_name": ".venv",
   "language": "python",
   "name": "python3"
  },
  "language_info": {
   "codemirror_mode": {
    "name": "ipython",
    "version": 3
   },
   "file_extension": ".py",
   "mimetype": "text/x-python",
   "name": "python",
   "nbconvert_exporter": "python",
   "pygments_lexer": "ipython3",
   "version": "3.12.8"
  }
 },
 "nbformat": 4,
 "nbformat_minor": 2
}
